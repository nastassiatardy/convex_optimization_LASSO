{
 "cells": [
  {
   "cell_type": "code",
   "execution_count": 3,
   "id": "73d86ea0",
   "metadata": {},
   "outputs": [],
   "source": [
    "import numpy as np\n",
    "import matplotlib.pyplot as plt"
   ]
  },
  {
   "attachments": {},
   "cell_type": "markdown",
   "id": "91a18a6e",
   "metadata": {},
   "source": [
    "# Barrier method"
   ]
  },
  {
   "attachments": {},
   "cell_type": "markdown",
   "id": "241f8ec8",
   "metadata": {},
   "source": [
    "### Overview of the method\n",
    "\n",
    "**Pseudo-code:**\n",
    "\n",
    "Given strictly feasible $x$, $t:=t^{(0)} > 0$, $\\mu > 1$, tolerance $\\epsilon > 0$,\n",
    "\n",
    "Repeat\n",
    "1. Centering step: compute $x^*(t)$ by minimizing $t f_0 + \\phi$, subject to $Ax=b$.\n",
    "2. Update: $x:=x^*(t)$.\n",
    "3. Stopping criterion: quit if $m/t \\lt \\epsilon$.\n",
    "4. Increase $t$: $t:=\\mu t$."
   ]
  },
  {
   "attachments": {},
   "cell_type": "markdown",
   "id": "48648556",
   "metadata": {},
   "source": [
    "### Applying the barrier method to the Quadratic Problem\n",
    "\n",
    "For implementation of log-barrier method, we consider the following problem (which is equivalent to the Quadratic Problem defined in the `readme.md`):\n",
    "\n",
    "$$\\min_{v} t(v^t Q v + p^t v) + \\phi $$ \n",
    "with $\\phi = -\\sum_{i=1}^d \\log(-Av+b)(i)$. We note $f(v)=t(v^t Q v + p^t v) + \\phi$.\n",
    "\n",
    "For the centering step of the Newton method, we compute explicitely the gradient and the Hessian matrix of $f$:\n",
    "$$\\nabla f(v) = t(2Qv+p) + \\sum_{i=1}^d \\frac{A(i)}{(-Av+b)(i)} $$ \n",
    "$$ \\nabla^2 f(v) = 2tQ^t + \\sum_{i=1}^d \\frac{1}{(-Av+b)(i)^2}A(i)A(i)^t$$"
   ]
  },
  {
   "cell_type": "code",
   "execution_count": 9,
   "id": "18568b35",
   "metadata": {},
   "outputs": [],
   "source": [
    "def f(Q, A, b, v, t0):\n",
    "    \"\"\"\n",
    "    Implements the f function as defined above.\n",
    "    \"\"\"\n",
    "    return t0*(np.dot(np.dot(v.T, Q), v) + np.dot(p.T, v)) - sum([np.log(-np.dot(A[i], v) + b[i]) for i in range (b.shape[0])])\n",
    "\n",
    "def backtracking_line_search(Q, p, v, t, grad_f, newton_step, t0):\n",
    "    \"\"\"\n",
    "    Backtracking line search.\n",
    "    \"\"\"\n",
    "    if (-A.dot(v + t*newton_step) + b>0).all() and f(Q, A, b, v + t*newton_step, t0) <= (f(Q, A, b, v, t0) + alpha*t*np.dot(grad_f.T, newton_step)):\n",
    "        return v + t*newton_step\n",
    "    else: \n",
    "        return backtracking_line_search(Q, p, v, beta*t, grad_f, newton_step, t0)\n",
    "\n",
    "def centering_step(Q, p, A, b, t, v0, eps=10e-6, n_it_centering=0):\n",
    "    \"\"\"\n",
    "    Implements the barrier method's centering step.\n",
    "    \"\"\"\n",
    "    V = []\n",
    "    d, n = np.shape(A)\n",
    "    \n",
    "    # computing the gradient of f\n",
    "    C = -np.dot(A, v0)+b\n",
    "    B = np.array([[A[i,k]/C[i] for k in range(n)] for i in range(d)])\n",
    "    grad_f = t*(2*np.dot(Q, v0)+p) + np.sum(B, axis=0)\n",
    "    \n",
    "    # computing the hessian matrix\n",
    "    B1 = [np.dot(A[i,:], np.matrix.transpose(A[i,:]))/(C[i]**2) for i in range(d)]\n",
    "    hess_f = t*2*np.matrix.transpose(Q) + np.sum(B1)\n",
    "        \n",
    "    newton_step = -np.dot(np.linalg.inv(hess_f), grad_f)\n",
    "    decrement2 = np.dot(grad_f.T, np.dot(np.linalg.inv(hess_f), grad_f))\n",
    "    \n",
    "    # stopping criterion\n",
    "    if decrement2/2 <= eps:\n",
    "        return v0, n_it_centering\n",
    "    \n",
    "    v1 = backtracking_line_search(Q, p, v0, 1, grad_f, newton_step, t)\n",
    "    return centering_step(Q, p, A, b, t, v1, eps, n_it_centering+1)\n",
    "\n",
    "def barr_method(Q, p, A, b, v0, eps=10e-6, mu=5):\n",
    "    t = 1\n",
    "    v = v0\n",
    "    d, n = np.shape(A)\n",
    "    n_it, v_seq, n_it_value = [0], [v0], 0\n",
    "    \n",
    "    for _ in range(1000): # max it allowed\n",
    "        # centering step\n",
    "        v, n_it_centering = centering_step(Q, p, A, b, t, v, eps)\n",
    "        n_it_value += n_it_centering\n",
    "        n_it.append(n_it_value)\n",
    "        v_seq.append(v)\n",
    "        \n",
    "        # stopping criterion\n",
    "        if d/t < eps:\n",
    "            return v, n_it, v_seq\n",
    "        \n",
    "        # increase t\n",
    "        t = mu*t\n",
    "    return v, n_it, v_seq"
   ]
  },
  {
   "cell_type": "code",
   "execution_count": 10,
   "id": "b8e309c2",
   "metadata": {},
   "outputs": [
    {
     "data": {
      "image/png": "[encoded data removed]",
      "text/plain": [
       "<Figure size 432x288 with 1 Axes>"
      ]
     },
     "metadata": {
      "needs_background": "light"
     },
     "output_type": "display_data"
    }
   ],
   "source": [
    "alpha, beta = 0.1, 0.7\n",
    "mu = 5\n",
    "n, d = 5, 30 \n",
    "eps = 10e-6\n",
    "lamb = 10\n",
    "\n",
    "X = np.random.rand(n,d)\n",
    "y = np.random.rand(n,1)\n",
    "\n",
    "Q = 0.5*np.eye(n)\n",
    "p = -y\n",
    "A = np.vstack((X.T,-X.T))\n",
    "b = lamb*np.ones((2*d,1))\n",
    "\n",
    "v0 = np.zeros((n,1))\n",
    "\n",
    "fig, ax = plt.subplots()\n",
    "mu_list = [2, 15, 50, 100, 150, 200]\n",
    "for mu in mu_list:\n",
    "    v_center, n_it_seq, v_seq = barr_method(Q, p, A, b, v0, eps=10e-6, mu=mu)\n",
    "    f_found = [float((np.dot(v.T, np.dot(Q, v)) + np.dot(p.T, v))[0]) for v in v_seq]\n",
    "    ax.step(n_it_seq, np.array(f_found) - f_found[-1], label=fr\"$\\mu$={str(mu)}\")\n",
    "\n",
    "\n",
    "ax.set_xlabel(\"Number of iterations\")\n",
    "ax.set_ylabel(r\"$f(v_t) - f^*$\")\n",
    "ax.set_yscale(\"log\")\n",
    "ax.set_title(\"Duality gap in function of the number of iterations\")\n",
    "\n",
    "plt.legend()\n",
    "plt.grid()\n",
    "plt.show()"
   ]
  },
  {
   "attachments": {},
   "cell_type": "markdown",
   "id": "050ac5b6",
   "metadata": {},
   "source": [
    "The higher $\\mu$, the less iterations are necessary to converge."
   ]
  }
 ],
 "metadata": {
  "kernelspec": {
   "display_name": "Python 3 (ipykernel)",
   "language": "python",
   "name": "python3"
  },
  "language_info": {
   "codemirror_mode": {
    "name": "ipython",
    "version": 3
   },
   "file_extension": ".py",
   "mimetype": "text/x-python",
   "name": "python",
   "nbconvert_exporter": "python",
   "pygments_lexer": "ipython3",
   "version": "3.9.12"
  }
 },
 "nbformat": 4,
 "nbformat_minor": 5
}
