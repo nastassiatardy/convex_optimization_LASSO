{
 "cells": [
  {
   "cell_type": "code",
   "execution_count": 1,
   "id": "73d86ea0",
   "metadata": {},
   "outputs": [],
   "source": [
    "import numpy as np\n",
    "import matplotlib.pyplot as plt"
   ]
  },
  {
   "attachments": {},
   "cell_type": "markdown",
   "id": "91a18a6e",
   "metadata": {},
   "source": [
    "# Barrier method"
   ]
  },
  {
   "attachments": {},
   "cell_type": "markdown",
   "id": "48648556",
   "metadata": {},
   "source": [
    "For implementation of log-barrier method, we consider the following problem:\n",
    "\n",
    "$$\\min_{v} t(v^t Q v + p^t v) + \\phi$$ \n",
    "with $\\phi = -\\sum_{i=1}^d \\log(-Av+b)(i)$.\n",
    "\n",
    "This problem is shown in the `readme.md` to derive from LASSO problem. \n",
    "\n",
    "For the centering step of the Newton method, we compute the gradient and the Hessian matrix corresponding to the last problem:\n",
    "$$\\nabla f(v) = t(2Qv+p) + \\sum_{i=1}^d \\frac{A(i)}{(-Av+b)(i)} $$ \n",
    "$$ \\nabla^2 f(v) = 2tQ^t + \\sum_{i=1}^d \\frac{1}{(-Av+b)(i)^2}A(i)A(i)^t$$"
   ]
  },
  {
   "cell_type": "code",
   "execution_count": 2,
   "id": "18568b35",
   "metadata": {},
   "outputs": [],
   "source": [
    "alpha, beta = 0.1, 0.7\n",
    "mu = 5\n",
    "n, d = 20, 15 \n",
    "eps = 10e-6\n",
    "lamb = 10\n",
    "\n",
    "def f(Q, A, b, v, t0):\n",
    "    return t0*(np.dot(np.dot(v.T, Q), v) + np.dot(p.T, v)) - sum([np.log(-np.dot(A[i], v) + b[i]) for i in range (b.shape[0])])\n",
    "\n",
    "def line_search(Q, p, v, t, grad_f, newton_step, t0):\n",
    "    if (-A.dot(v + t*newton_step) + b>0).all() and f(Q, A, b, v + t*newton_step, t0) <= (f(Q, A, b, v, t0) + alpha*t*np.dot(grad_f.T, newton_step)):\n",
    "        return v + t*newton_step\n",
    "    else: \n",
    "        return line_search(Q, p, v, beta*t, grad_f, newton_step, t0)\n",
    "\n",
    "def centering_step(Q, p, A, b, t, v0, eps=10e-6, n_it_centering=0):\n",
    "    V = []\n",
    "    d, n = np.shape(A)\n",
    "        \n",
    "    C = -np.dot(A, v0)+b\n",
    "    B = np.array([[A[i,k]/C[i] for k in range(n)] for i in range(d)])\n",
    "    grad_f = t*(2*np.dot(Q, v0)+p) + np.sum(B, axis=0)\n",
    "           \n",
    "    B1 = [np.dot(A[i,:], np.matrix.transpose(A[i,:]))/(C[i]**2) for i in range(d)]\n",
    "    hess_f = t*2*np.matrix.transpose(Q) + np.sum(B1)\n",
    "        \n",
    "    newton_step = -np.dot(np.linalg.inv(hess_f), grad_f)\n",
    "    decrement2 = np.dot(grad_f.T, np.dot(np.linalg.inv(hess_f), grad_f))\n",
    "    \n",
    "    # stopping criterion\n",
    "    if decrement2/2 <= eps:\n",
    "        return v0, n_it_centering\n",
    "    \n",
    "    v1 = line_search(Q, p, v0, 1, grad_f, newton_step, t)\n",
    "    return centering_step(Q, p, A, b, t, v1, eps, n_it_centering+1)\n",
    "\n",
    "def barr_method(Q, p, A, b, v0, eps=10e-6, mu=5):\n",
    "    t = 1\n",
    "    v = v0\n",
    "    d, n = np.shape(A)\n",
    "    n_it, v_seq, n_it_value = [0], [v0], 0\n",
    "    \n",
    "    for _ in range(1000): # max it allowed\n",
    "        # centering step\n",
    "        v, n_it_centering = centering_step(Q, p, A, b, t, v, eps)\n",
    "        n_it_value += n_it_centering\n",
    "        n_it.append(n_it_value)\n",
    "        v_seq.append(v)\n",
    "        \n",
    "        # stopping criterion\n",
    "        if d/t < eps:\n",
    "            return v, n_it, v_seq\n",
    "        \n",
    "        t = mu*t\n",
    "    return v, n_it, v_seq"
   ]
  },
  {
   "cell_type": "code",
   "execution_count": 12,
   "id": "b8e309c2",
   "metadata": {},
   "outputs": [
    {
     "data": {
      "image/png": "[encoded data removed]",
      "text/plain": [
       "<Figure size 432x288 with 1 Axes>"
      ]
     },
     "metadata": {
      "needs_background": "light"
     },
     "output_type": "display_data"
    }
   ],
   "source": [
    "X = np.random.rand(n,d)\n",
    "y = np.random.rand(n,1)\n",
    "\n",
    "Q = 0.5*np.eye(n)\n",
    "p = -y\n",
    "A = np.vstack((X.T,-X.T))\n",
    "b = lamb*np.ones((2*d,1))\n",
    "\n",
    "v0 = np.zeros((n,1))\n",
    "\n",
    "plt.figure()\n",
    "mu_list = [2, 15, 50, 100, 150, 200]\n",
    "for mu in mu_list:\n",
    "    v_center, n_it_seq, v_seq = barr_method(Q, p, A, b, v0, eps=10e-6, mu=mu)\n",
    "    f_found = [float((np.dot(v.T, np.dot(Q, v)) + np.dot(p.T, v))[0]) for v in v_seq]\n",
    "    plt.step(n_it_seq, np.array(f_found) - f_found[-1], label=fr\"$\\mu$={str(mu)}\")\n",
    "plt.legend()\n",
    "plt.ylabel(r\"$f(v_t) - f^*$\")\n",
    "plt.xlabel(\"Number of iterations\")\n",
    "plt.semilogy()\n",
    "plt.grid()\n",
    "plt.show()"
   ]
  },
  {
   "cell_type": "code",
   "execution_count": 19,
   "id": "219a5c1d",
   "metadata": {},
   "outputs": [
    {
     "data": {
      "image/png": "[encoded data removed]",
      "text/plain": [
       "<Figure size 432x288 with 1 Axes>"
      ]
     },
     "metadata": {
      "needs_background": "light"
     },
     "output_type": "display_data"
    }
   ],
   "source": [
    "from scipy.linalg import lstsq\n",
    "\n",
    "mu_list, w_list = np.arange(2, 200, 1), []\n",
    "for mu in mu_list:\n",
    "    v_center, n_it_seq, v_seq = barr_method(Q, p, A, b, v0, eps=10e-6, mu=mu)\n",
    "    w = lstsq(X,-v_center-y)[0]\n",
    "    w_list.append(w)\n",
    "    \n",
    "f_w = [float((1/2)*np.linalg.norm(np.dot(X, w)-y, 2) + lamb*np.linalg.norm(w, 1))]\n",
    "diff_w = [np.linalg.norm(w - w_list[np.argmin(f_w)]) for w in w_list]\n",
    "\n",
    "plt.figure()\n",
    "plt.plot(mu_list, diff_w)\n",
    "plt.ylabel(r\"$||w^* - w(\\mu)||$\")\n",
    "plt.xlabel(r\"$\\mu$\")\n",
    "plt.grid()\n",
    "plt.show()"
   ]
  },
  {
   "cell_type": "markdown",
   "id": "9e3f2426",
   "metadata": {},
   "source": [
    "On observe des valeurs assez chaotiques pour $\\mu<25$, donc on peut restreindre les valeurs de $\\mu$ d'intérêt à $[25, 200]$. D'autre part, sur certaines plages de valeurs, la différence $||w^* - w(\\mu)||$ augmente. Il faudrait donc se placer à un creux, par exemple pour $\\mu \\approx 45$. Pour cette valeur de $\\mu$ la convergence est presque aussi rapide que pour des valeurs plus élevées, comme on peut le voir sur le premier graphe. "
   ]
  }
 ],
 "metadata": {
  "kernelspec": {
   "display_name": "Python 3 (ipykernel)",
   "language": "python",
   "name": "python3"
  },
  "language_info": {
   "codemirror_mode": {
    "name": "ipython",
    "version": 3
   },
   "file_extension": ".py",
   "mimetype": "text/x-python",
   "name": "python",
   "nbconvert_exporter": "python",
   "pygments_lexer": "ipython3",
   "version": "3.9.12"
  }
 },
 "nbformat": 4,
 "nbformat_minor": 5
}
